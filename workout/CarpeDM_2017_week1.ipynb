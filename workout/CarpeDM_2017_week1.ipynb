{
 "cells": [
  {
   "cell_type": "markdown",
   "metadata": {},
   "source": [
    "## CarpeDM 2017 week 1\n",
    "\n",
    "다들 강의 잘 듣고 계신가요? <br/>\n",
    "학구열로 불타는 여러분은 분명 Coursera에서 주는 과제만으로는 만족하지 못하셨을 겁니다 ㅎㅎㅎ <br/>\n",
    "그런고로 첫째주 활동 내용을 준비해보았습니다.\n",
    "\n",
    "**활성화 함수(Activation Functions)**\n",
    "\n",
    "https://en.wikipedia.org/wiki/Activation_function <br/>\n",
    "\n",
    "딥러닝에서 각 노드의 연산에 이용되는 함수에는 여러가지 종류가 있습니다. 우리는 연산을 통해 어떠한 형태의 결과를 얻고자 하는지에 따라 특정 함수를 선택하여 이용하는데요, 주로 일정 범위의 데이터를 잘라내거나, 구간을 축소하거나, 선형 함수를 비선형 형태로 수정하는 등의 용도로 사용합니다. 대표적으로는 이진분류(Binary Classification) 문제에서 로지스틱 회귀(Logistic Regression)를 하기 위해 이용하는 시그모이드(Sigmoid) 함수가 있습니다.\n",
    "\n",
    "$$sigmoid(x) = \\frac{1}{1+\\exp(-x)}$$\n",
    "\n",
    "자 그럼 다른 형태의 활성화 함수에는 어떤 종류가 있는지, 저 위의 위키피디아를 통해 알아보고 직접 그 모양을 플롯해봅시다!\n",
    "\n",
    "**활동 내용**\n",
    "- 다음의 함수들을 파이썬 코드로 구현해봅시다. 단, 인풋은 n차원 벡터까지 모두 포함해야합니다.\n",
    "    - tanh\n",
    "    - softsign\n",
    "    - relu\n",
    "    - selu\n",
    "    - gaussian\n",
    "- 구현한 함수들을 전부 한 그림에 플롯해봅시다.\n",
    "- numpy, matplotlib 패키지를 이용합시다.\n",
    "\n",
    "**제출 기한 및 방법**\n",
    "- 제출 기한은 9월 24일 일요일 자정까지입니다.\n",
    "- 함수를 구현하는 코드 블럭이 하나, 함수들을 플롯하는 코드 블럭이 또 하나, 이렇게 총 두 블럭을 채워주시면 됩니다.\n",
    "- https://github.com/CarpeDM2017/StudyML 에 자신의 이름 이니셜로 생성한 폴더 안에 week1.ipynb 로 저장합니다.\n",
    "- 저장하는 방법은 깃헙 홈페이지나 GitHub Desktop 프로그램, 또는 커맨드 명령어 등을 통해 자유롭게 해주시면 됩니다.\n",
    "- 커맨드 명령어를 이용하고자 하실 경우, 반드시 git push 전에 git pull -> git add -> git commit -> git push 순서로 해주세요."
   ]
  },
  {
   "cell_type": "code",
   "execution_count": null,
   "metadata": {
    "collapsed": false
   },
   "outputs": [],
   "source": [
    "import numpy as np\n",
    "\n",
    "### 이 블럭에 각 함수를 정의합니다. ###\n",
    "\n",
    "\"\"\"\n",
    "시그모이드 함수를 정의하는 예시입니다.\n",
    "\n",
    "def sigmoid(x) :\n",
    "    \n",
    "    sigmoid = 1 / (1+np.exp(-x))\n",
    "    \n",
    "    return sigmoid\n",
    "    \n",
    "\"\"\"\n"
   ]
  },
  {
   "cell_type": "code",
   "execution_count": null,
   "metadata": {
    "collapsed": true
   },
   "outputs": [],
   "source": [
    "import matplotlib.pyplot as plt\n",
    "% matplotlib inline\n",
    "\n",
    "### 이 블럭에 함수들을 전부 한 그림에 나타나도록 그려봅시다. ###\n",
    "\n",
    "plt.show()"
   ]
  }
 ],
 "metadata": {
  "anaconda-cloud": {},
  "coursera": {
   "course_slug": "neural-networks-deep-learning",
   "graded_item_id": "XHpfv",
   "launcher_item_id": "Zh0CU"
  },
  "kernelspec": {
   "display_name": "Python [default]",
   "language": "python",
   "name": "python3"
  },
  "language_info": {
   "codemirror_mode": {
    "name": "ipython",
    "version": 3
   },
   "file_extension": ".py",
   "mimetype": "text/x-python",
   "name": "python",
   "nbconvert_exporter": "python",
   "pygments_lexer": "ipython3",
   "version": "3.5.2"
  }
 },
 "nbformat": 4,
 "nbformat_minor": 2
}
