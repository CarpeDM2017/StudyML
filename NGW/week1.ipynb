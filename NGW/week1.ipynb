{
 "cells": [
  {
   "cell_type": "code",
   "execution_count": 50,
   "metadata": {
    "collapsed": false
   },
   "outputs": [],
   "source": [
    "import numpy as np\n",
    "\n",
    "\n",
    "def tanh(x):\n",
    "    tanh = 2 / (1+np.exp(-2*x)) - 1\n",
    "    return tanh\n",
    "\n",
    "def softsign(x): \n",
    "    softsign = x / (1+abs(x))\n",
    "    return softsign\n",
    "\n",
    "def relu(x):\n",
    "    r = np.zeros((x.shape[0],1))\n",
    "    for i in range(x.shape[0]):\n",
    "        if(x[i]>=0): \n",
    "            r[i] = x[i]\n",
    "        else:\n",
    "            r[i] = 0\n",
    "    return r\n",
    "\n",
    "def selu(x):\n",
    "    L = 1.0507\n",
    "    alpha = 1.67326\n",
    "    s = np.zeros((x.shape[0],1))\n",
    "    for i in range(x.shape[0]):\n",
    "        if(x[i]>=0):\n",
    "            s[i] = L * x[i]\n",
    "        else:\n",
    "            s[i] = L * alpha * (np.exp(x[i])-1)\n",
    "    return s\n",
    "\n",
    "def gaussian(x):\n",
    "    g = np.zeros((x.shape[0],1))\n",
    "    for i in range(x.shape[0]):\n",
    "        g[i] = np.exp(-x[i]*x[i])\n",
    "    return g\n",
    "\n"
   ]
  },
  {
   "cell_type": "code",
   "execution_count": 55,
   "metadata": {
    "collapsed": false
   },
   "outputs": [],
   "source": [
    "%matplotlib inline\n",
    "import matplotlib.pyplot as plt\n",
    "\n",
    "X = np.linspace(-10,10,1000)\n",
    "Y1 = tanh(X)\n",
    "Y2 = softsign(X)\n",
    "Y3 = relu(X)\n",
    "Y4 = selu(X)\n",
    "Y5 = gaussian(X)\n",
    "\n",
    "plt.plot(X,Y1)\n",
    "plt.hold(True)\n",
    "plt.plot(X,Y2)\n",
    "plt.hold(True)\n",
    "plt.plot(X,Y3)\n",
    "plt.hold(True)\n",
    "plt.plot(X,Y4)\n",
    "plt.hold(True)\n",
    "plt.plot(X,Y5)\n",
    "plt.hold(True)\n",
    "plt.show()"
   ]
  },
  {
   "cell_type": "code",
   "execution_count": null,
   "metadata": {
    "collapsed": true
   },
   "outputs": [],
   "source": []
  }
 ],
 "metadata": {
  "kernelspec": {
   "display_name": "Python 3",
   "language": "python",
   "name": "python3"
  },
  "language_info": {
   "codemirror_mode": {
    "name": "ipython",
    "version": 3
   },
   "file_extension": ".py",
   "mimetype": "text/x-python",
   "name": "python",
   "nbconvert_exporter": "python",
   "pygments_lexer": "ipython3",
   "version": "3.5.1"
  }
 },
 "nbformat": 4,
 "nbformat_minor": 0
}
