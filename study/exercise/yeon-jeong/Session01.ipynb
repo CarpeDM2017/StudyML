{
 "cells": [
  {
   "cell_type": "code",
   "execution_count": 1,
   "metadata": {
    "collapsed": true
   },
   "outputs": [
    {
     "name": "stdout",
     "output_type": "stream",
     "text": [
      "Hello world!\n"
     ]
    },
    {
     "data": {
      "text/plain": [
       "True"
      ]
     },
     "execution_count": 1,
     "metadata": {},
     "output_type": "execute_result"
    }
   ],
   "source": [
    "print(\"Hello world!\")\n",
    "1+1\n",
    "1+2\n",
    "2*4\n",
    "3/5\n",
    "True and False\n",
    "True or False"
   ]
  },
  {
   "cell_type": "code",
   "execution_count": 2,
   "metadata": {},
   "outputs": [
    {
     "data": {
      "text/plain": [
       "'자료형\\t설명\\t연산\\n논리(bool)\\t참(1) 또는 거짓(0)\\tor(+), and(*)\\n숫자(int, float)\\t정수 또는 실수\\t+, -, *, /, %\\n문자열(str)\\t단어, 문자들의 집합\\t+, *, [ ]\\n리스트(list)\\t[list1, list2, list3, list4]\\t+, *, [ ], del, append ; 중복불가\\n튜플(tuple)\\t(tuple1, tuple2, tuple3)\\t+, *, [ ] ; 수정불가\\n딕셔너리(dict)\\t{key1 : value1, key2 : value2}\\t[ ], keys(), values()\\n집합(set)\\t{set1, set2, set3, set4}\\tintersection, union, add\\n없음(None)\\t그 어떤 자료형도 아닌 경우'"
      ]
     },
     "execution_count": 2,
     "metadata": {},
     "output_type": "execute_result"
    }
   ],
   "source": [
    "'''자료형\t설명\t연산\n",
    "논리(bool)\t참(1) 또는 거짓(0)\tor(+), and(*)\n",
    "숫자(int, float)\t정수 또는 실수\t+, -, *, /, %\n",
    "문자열(str)\t단어, 문자들의 집합\t+, *, [ ]\n",
    "리스트(list)\t[list1, list2, list3, list4]\t+, *, [ ], del, append ; 중복불가\n",
    "튜플(tuple)\t(tuple1, tuple2, tuple3)\t+, *, [ ] ; 수정불가\n",
    "딕셔너리(dict)\t{key1 : value1, key2 : value2}\t[ ], keys(), values()\n",
    "집합(set)\t{set1, set2, set3, set4}\tintersection, union, add\n",
    "없음(None)\t그 어떤 자료형도 아닌 경우'''"
   ]
  },
  {
   "cell_type": "code",
   "execution_count": 5,
   "metadata": {},
   "outputs": [
    {
     "name": "stdout",
     "output_type": "stream",
     "text": [
      "4\n4\nTrue\n1\n4\nFalse\n"
     ]
    }
   ],
   "source": [
    "#변수란 위와 같은 자료형의 값을 저장하는 공간입니다. 변수에 저장되는 값은 대입 연산자(=)를 통해 정할 수 있습니다.\n",
    "\n",
    "a = True\n",
    "b = 3\n",
    "print(a + b)  # 4\n",
    "\n",
    "c = a + b\n",
    "print(c)  # 4\n",
    "print(c == a + b)   # True\n",
    "\n",
    "b = 0\n",
    "print(a + b)  # 1\n",
    "print(c)  # 4\n",
    "print(c == a + b)   # False\n",
    "## == ; 이게 맞는지 출력해보시오"
   ]
  },
  {
   "cell_type": "code",
   "execution_count": 6,
   "metadata": {},
   "outputs": [
    {
     "ename": "StdinNotImplementedError",
     "evalue": "raw_input was called, but this frontend does not support input requests.",
     "traceback": [
      "\u001b[1;31m---------------------------------------------------------------------------\u001b[0m",
      "\u001b[1;31mStdinNotImplementedError\u001b[0m                  Traceback (most recent call last)",
      "\u001b[1;32m<ipython-input-6-259e5472228b>\u001b[0m in \u001b[0;36m<module>\u001b[1;34m()\u001b[0m\n\u001b[0;32m      7\u001b[0m \u001b[1;31m# 여기서부터 반복문\u001b[0m\u001b[1;33m\u001b[0m\u001b[1;33m\u001b[0m\u001b[0m\n\u001b[0;32m      8\u001b[0m \u001b[1;32mwhile\u001b[0m\u001b[1;33m(\u001b[0m\u001b[0mans\u001b[0m \u001b[1;33m==\u001b[0m \u001b[1;32mNone\u001b[0m\u001b[1;33m)\u001b[0m\u001b[1;33m:\u001b[0m\u001b[1;33m\u001b[0m\u001b[0m\n\u001b[1;32m----> 9\u001b[1;33m     \u001b[0mans\u001b[0m \u001b[1;33m=\u001b[0m \u001b[0minput\u001b[0m\u001b[1;33m(\u001b[0m\u001b[1;34m'치킨을 주문하시겠습니까? '\u001b[0m\u001b[1;33m)\u001b[0m\u001b[1;33m\u001b[0m\u001b[0m\n\u001b[0m\u001b[0;32m     10\u001b[0m     \u001b[1;32mif\u001b[0m \u001b[1;33m(\u001b[0m\u001b[0mans\u001b[0m \u001b[1;33m==\u001b[0m \u001b[1;34m'예'\u001b[0m\u001b[1;33m)\u001b[0m\u001b[1;33m:\u001b[0m          \u001b[1;31m# 조건문\u001b[0m\u001b[1;33m\u001b[0m\u001b[0m\n\u001b[0;32m     11\u001b[0m         \u001b[0mprint\u001b[0m\u001b[1;33m(\u001b[0m\u001b[1;34m'반반무많이'\u001b[0m\u001b[1;33m)\u001b[0m\u001b[1;33m\u001b[0m\u001b[0m\n",
      "\u001b[1;32m~\\Anaconda3\\lib\\site-packages\\ipykernel\\kernelbase.py\u001b[0m in \u001b[0;36mraw_input\u001b[1;34m(self, prompt)\u001b[0m\n\u001b[0;32m    698\u001b[0m         \u001b[1;32mif\u001b[0m \u001b[1;32mnot\u001b[0m \u001b[0mself\u001b[0m\u001b[1;33m.\u001b[0m\u001b[0m_allow_stdin\u001b[0m\u001b[1;33m:\u001b[0m\u001b[1;33m\u001b[0m\u001b[0m\n\u001b[0;32m    699\u001b[0m             raise StdinNotImplementedError(\n\u001b[1;32m--> 700\u001b[1;33m                 \u001b[1;34m\"raw_input was called, but this frontend does not support input requests.\"\u001b[0m\u001b[1;33m\u001b[0m\u001b[0m\n\u001b[0m\u001b[0;32m    701\u001b[0m             )\n\u001b[0;32m    702\u001b[0m         return self._input_request(str(prompt),\n",
      "\u001b[1;31mStdinNotImplementedError\u001b[0m: raw_input was called, but this frontend does not support input requests."
     ],
     "output_type": "error"
    }
   ],
   "source": [
    "'''조건문과 반복문\n",
    "우리가 작성한 코드는 일반적으로 위에서부터 차례대로 작동합니다. 앞선 코드에서 변수 b의 값은 실행할 때마다 언제나 3.14에서 0으로 변화하고, 그 반대방향으로는 변화하지 않습니다. 그러나 조건문과 반복문 등의 제어문을 사용하면 코드의 진행순서를 변경할 수 있습니다.\n",
    "\n",
    "조건문이란 정해진 조건을 만족할 때에만 수행하는 구문입니다. 그리고 반복문이란 조건문과 결합하여, 정해진 조건을 만족하면 지정한 부분으로 다시 돌아가 같은 내용을 수행하는 구문을 뜻합니다.'''\n",
    "\n",
    "ans = None\n",
    "# 여기서부터 반복문\n",
    "while(ans == None):\n",
    "    ans = input('치킨을 주문하시겠습니까? ')\n",
    "    if (ans == '예'):          # 조건문\n",
    "        print('반반무많이')\n",
    "    else:                     # 조건에 해당되지 않는 경우\n",
    "        ans = None\n",
    "        print('예 또는 아니오로 대답해주세요.')  \n",
    "# 여기까지 반복문\n",
    "print('치멘')\n",
    "\n",
    "'''위 코드에서 while문은 ans 변수에  None이 아닌 값이 저장될 때까지 들여쓰기한 부분을 계속 반복하게 합니다. 이때 if문이 ans에 입력된 값이 '예'인지를 확인하고, '예'일 경우 if 아래 들여쓰기한 부분, 아닐 경우엔 else 아래 들여쓰기한 부분을 수행하도록 제어하고 있습니다.'''"
   ]
  },
  {
   "cell_type": "code",
   "execution_count": null,
   "metadata": {},
   "outputs": [],
   "source": []
  }
 ],
 "metadata": {
  "kernelspec": {
   "display_name": "Python 2",
   "language": "python",
   "name": "python2"
  },
  "language_info": {
   "codemirror_mode": {
    "name": "ipython",
    "version": 2
   },
   "file_extension": ".py",
   "mimetype": "text/x-python",
   "name": "python",
   "nbconvert_exporter": "python",
   "pygments_lexer": "ipython2",
   "version": "2.7.6"
  }
 },
 "nbformat": 4,
 "nbformat_minor": 0
}
